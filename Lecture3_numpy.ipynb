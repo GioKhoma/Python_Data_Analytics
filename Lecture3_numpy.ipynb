{
  "nbformat": 4,
  "nbformat_minor": 0,
  "metadata": {
    "colab": {
      "provenance": [],
      "authorship_tag": "ABX9TyN8hYiwquvokLxmW+krZg0p",
      "include_colab_link": true
    },
    "kernelspec": {
      "name": "python3",
      "display_name": "Python 3"
    },
    "language_info": {
      "name": "python"
    }
  },
  "cells": [
    {
      "cell_type": "markdown",
      "metadata": {
        "id": "view-in-github",
        "colab_type": "text"
      },
      "source": [
        "<a href=\"https://colab.research.google.com/github/GioKhoma/Python_Data_Analytics/blob/main/Lecture3_numpy.ipynb\" target=\"_parent\"><img src=\"https://colab.research.google.com/assets/colab-badge.svg\" alt=\"Open In Colab\"/></a>"
      ]
    },
    {
      "cell_type": "code",
      "execution_count": 2,
      "metadata": {
        "colab": {
          "base_uri": "https://localhost:8080/"
        },
        "id": "GghTd2k8rHzA",
        "outputId": "238c6b43-c9b4-44b6-8bd3-c4a6a7b5bb57"
      },
      "outputs": [
        {
          "output_type": "stream",
          "name": "stdout",
          "text": [
            "42\n",
            "0\n"
          ]
        }
      ],
      "source": [
        "import numpy as np\n",
        "\n",
        "scalar = np.array(42)\n",
        "print(scalar)\n",
        "print(scalar.ndim)"
      ]
    },
    {
      "cell_type": "code",
      "source": [
        "vector = np.array([1, 2, 3, 4, 5])\n",
        "print(vector)\n",
        "print(vector.ndim)"
      ],
      "metadata": {
        "colab": {
          "base_uri": "https://localhost:8080/"
        },
        "id": "Cdxc3vamwrNC",
        "outputId": "f37c403c-d75c-4193-9c18-67ba5a309756"
      },
      "execution_count": 4,
      "outputs": [
        {
          "output_type": "stream",
          "name": "stdout",
          "text": [
            "[1 2 3 4 5]\n",
            "1\n"
          ]
        }
      ]
    },
    {
      "cell_type": "code",
      "source": [
        "matrix = np.array([[1, 2, 3],\n",
        "                   [4, 5, 6],\n",
        "                   [7, 8, 9]])\n",
        "print(matrix)\n",
        "print(matrix.ndim)"
      ],
      "metadata": {
        "colab": {
          "base_uri": "https://localhost:8080/"
        },
        "id": "wzAEmtwcw4p_",
        "outputId": "7d368ce3-6c3e-4d85-eedc-8dc64c4e32bc"
      },
      "execution_count": 6,
      "outputs": [
        {
          "output_type": "stream",
          "name": "stdout",
          "text": [
            "[[1 2 3]\n",
            " [4 5 6]\n",
            " [7 8 9]]\n",
            "2\n"
          ]
        }
      ]
    },
    {
      "cell_type": "code",
      "source": [
        "arr = np.array([1, 2, 3, 4, 5])\n",
        "# მონაცემთა ტიპის შემოწმება\n",
        "arr.dtype\n",
        "# განზომილების შემოწმება\n",
        "arr.ndim\n",
        "# ზომის შემოწმება\n",
        "arr.size\n",
        "# ფორმის შემოწმება\n",
        "arr.shape"
      ],
      "metadata": {
        "colab": {
          "base_uri": "https://localhost:8080/"
        },
        "id": "hQfgIaLmxG2a",
        "outputId": "25bcaccc-9113-4273-e12c-cb92f1b59125"
      },
      "execution_count": 8,
      "outputs": [
        {
          "output_type": "execute_result",
          "data": {
            "text/plain": [
              "(5,)"
            ]
          },
          "metadata": {},
          "execution_count": 8
        }
      ]
    },
    {
      "cell_type": "code",
      "source": [
        "arr = np.array([[1, 2, 3, 4, 5], [6, 7, 8, 9, 10]])\n",
        "print(\"მასივი\\n\", arr)\n",
        "\n",
        "# მონაცემთა ტიპის შემოწმება\n",
        "print(\"\\nმონაცემთა ტიპი:\", arr.dtype)\n",
        "\n",
        "# განზომილების შემოწმება\n",
        "print(\"\\nგანზომილება:\", arr.ndim)\n",
        "\n",
        "# ზომის შემოწმება\n",
        "print(\"\\nზომის შემოწმება:\", arr.size)\n",
        "\n",
        "# ფორმის შემოწმება\n",
        "print(\"\\nფორმა:\", arr.shape)"
      ],
      "metadata": {
        "colab": {
          "base_uri": "https://localhost:8080/"
        },
        "id": "o_-ahNI8xezP",
        "outputId": "0caa5bbe-ee87-4697-dfb0-8f3e190f3309"
      },
      "execution_count": 15,
      "outputs": [
        {
          "output_type": "stream",
          "name": "stdout",
          "text": [
            "მასივი\n",
            " [[ 1  2  3  4  5]\n",
            " [ 6  7  8  9 10]]\n",
            "\n",
            "მონაცემთა ტიპი: int64\n",
            "\n",
            "განზომილება: 2\n",
            "\n",
            "ზომის შემოწმება: 10\n",
            "\n",
            "ფორმა: (2, 5)\n"
          ]
        }
      ]
    },
    {
      "cell_type": "code",
      "source": [
        "import numpy as np\n",
        "print(\"ყველა ელემენტი == 0\")\n",
        "print(np.zeros((5, 5)))\n",
        "\n",
        "print(\"\\nყველა ელემენტი == 1\")\n",
        "print(np.ones((5, 5)))\n",
        "\n",
        "print(\"\\n5x5 ერთეულოვანი მატრიცა (identity matrix)\")\n",
        "print(np.identity(5))\n",
        "\n",
        "print(\"\\nმიმდევრობით\")\n",
        "print(np.arange(7, 23))\n",
        "\n",
        "print(\"\\nმიმდევრობით ნაზრდით\")\n",
        "print(np.arange(7, 23,3))\n",
        "\n",
        "print(\"\\nმიმდევრობით ათწილადი ნაზრდით\")\n",
        "print(np.arange(7, 15, 0.7))\n",
        "\n",
        "print(\"\\nფორმის შეცვლა reshape-ით\")\n",
        "print(np.arange(7, 15, 0.7).reshape(3, 4))\n"
      ],
      "metadata": {
        "colab": {
          "base_uri": "https://localhost:8080/"
        },
        "id": "dxpGKaUYyP6x",
        "outputId": "ebad8f91-d4c1-4e21-ac64-d13b69e86e09"
      },
      "execution_count": 17,
      "outputs": [
        {
          "output_type": "stream",
          "name": "stdout",
          "text": [
            "ყველა ელემენტი == 0\n",
            "[[0. 0. 0. 0. 0.]\n",
            " [0. 0. 0. 0. 0.]\n",
            " [0. 0. 0. 0. 0.]\n",
            " [0. 0. 0. 0. 0.]\n",
            " [0. 0. 0. 0. 0.]]\n",
            "\n",
            "ყველა ელემენტი == 1\n",
            "[[1. 1. 1. 1. 1.]\n",
            " [1. 1. 1. 1. 1.]\n",
            " [1. 1. 1. 1. 1.]\n",
            " [1. 1. 1. 1. 1.]\n",
            " [1. 1. 1. 1. 1.]]\n",
            "\n",
            "5x5 ერთეულოვანი მატრიცა (identity matrix)\n",
            "[[1. 0. 0. 0. 0.]\n",
            " [0. 1. 0. 0. 0.]\n",
            " [0. 0. 1. 0. 0.]\n",
            " [0. 0. 0. 1. 0.]\n",
            " [0. 0. 0. 0. 1.]]\n",
            "\n",
            "მიმდევრობით\n",
            "[ 7  8  9 10 11 12 13 14 15 16 17 18 19 20 21 22]\n",
            "\n",
            "მიმდევრობით ნაზრდით\n",
            "[ 7 10 13 16 19 22]\n",
            "\n",
            "მიმდევრობით ათწილადი ნაზრდით\n",
            "[ 7.   7.7  8.4  9.1  9.8 10.5 11.2 11.9 12.6 13.3 14.  14.7]\n",
            "\n",
            "ფორმის შეცვლა reshape-ით\n",
            "[[ 7.   7.7  8.4  9.1]\n",
            " [ 9.8 10.5 11.2 11.9]\n",
            " [12.6 13.3 14.  14.7]]\n"
          ]
        }
      ]
    },
    {
      "cell_type": "code",
      "source": [
        "# ვექტორის შექმნა\n",
        "a = np.arange(10, 16)\n",
        "print(\"ვექტორი:\", a)\n",
        "print(\"\\nანათალი 1-ელი ელემენტიდან მე-5-მდე (ჩაუთვლელად):\\n\", a[1:5])\n",
        "print(\"\\nანათალი 1-ელი ელემენტიდან მე-5-მდე (ჩაუთვლელად) 2 ბიჯიანი ნაპრალით:\\n\", a[1:5:2])\n",
        "\n",
        "# მატრიცის შექმნა\n",
        "A = np.arange(10, 19).reshape((3, 3))\n",
        "print(\"\\n\",A)\n",
        "print(\"\\n მე-0 სტრიქონის ყველა ელემენტი:\", A[0,:])\n",
        "print(\"\\n მე-0 სვეტის ყველა ელემენტი:\", A[:,0])\n"
      ],
      "metadata": {
        "colab": {
          "base_uri": "https://localhost:8080/"
        },
        "id": "zPCrYLt8zJy4",
        "outputId": "7deab1df-21c4-469f-da7d-3ebd1afa4a3f"
      },
      "execution_count": 20,
      "outputs": [
        {
          "output_type": "stream",
          "name": "stdout",
          "text": [
            "ვექტორი: [10 11 12 13 14 15]\n",
            "\n",
            "ანათალი 1-ელი ელემენტიდან მე-5-მდე (ჩაუთვლელად):\n",
            " [11 12 13 14]\n",
            "\n",
            "ანათალი 1-ელი ელემენტიდან მე-5-მდე (ჩაუთვლელად) 2 ბიჯიანი ნაპრალით:\n",
            " [11 13]\n",
            "\n",
            " [[10 11 12]\n",
            " [13 14 15]\n",
            " [16 17 18]]\n",
            "\n",
            " მე-0 სტრიქონის ყველა ელემენტი: [10 11 12]\n",
            "\n",
            " მე-0 სვეტის ყველა ელემენტი: [10 13 16]\n"
          ]
        }
      ]
    },
    {
      "cell_type": "code",
      "source": [
        "import numpy as np\n",
        "\n",
        "a = np.array([[1, 2], [3, 4]])\n",
        "b = np.array([[4, 3], [2, 1]])\n",
        "\n",
        "print(a > b)  # ელემენტობრივი შედარება\n",
        "print(np.logical_and(a > 0, b > 0))  # ლოგიკური AND ოპერაცია\n",
        "print(np.logical_or(a > 0, b > 0))  # ლოგიკური OR ოპერაცია"
      ],
      "metadata": {
        "colab": {
          "base_uri": "https://localhost:8080/"
        },
        "id": "PLJNIfovzsHF",
        "outputId": "378722ff-8bd3-4a03-b764-ae05ca961639"
      },
      "execution_count": 22,
      "outputs": [
        {
          "output_type": "stream",
          "name": "stdout",
          "text": [
            "[[False False]\n",
            " [ True  True]]\n",
            "[[ True  True]\n",
            " [ True  True]]\n",
            "[[ True  True]\n",
            " [ True  True]]\n"
          ]
        }
      ]
    },
    {
      "cell_type": "code",
      "source": [
        "import numpy as np\n",
        "from numpy.linalg import inv, qr\n",
        "a = np.array([[1, 2], [3, 4]])\n",
        "b = np.array([[4, 3], [2, 1]])\n",
        "# print(a)\n",
        "print(a + b)  # მატრიცების შეკრება\n",
        "print(a - b)  # მატრიცების გამოკლება\n",
        "print(a * b)  # მატრიცების ელემენტობრივი გამრავლება\n",
        "print(a.dot(b))  # მატრიცების გამრავლება\n",
        "print(a / b)  # მატრიცების ელემენტობრივი გაყოფა\n",
        "print(a * 2) # მატრიცის გამრავლება სკალარზე\n",
        "print(a.T) # მატრიცის ტრანსპონირება\n",
        "print(np.diag(a)) # მატრიცის დიაგონალური ელემენტების ამოღება\n",
        "print(np.diag([1, 2, 3, 4])) # დიაგონალური მატრიცის შექმნა\n",
        "# კვადრატული მატრიცის საკუთრივი მნიშვნელობების და საკუთრივი ვექტორების გამოთვლა:\n",
        "a = np.array([[1, 2], [3, 4]])\n",
        "eigenvalues, eigenvectors = np.linalg.eig(a)\n",
        "print(\"Eigenvalues:\", eigenvalues)\n",
        "print(\"Eigenvectors:\", eigenvectors)\n",
        "print(np.linalg.inv(a)) # მატრიცის შებრუნებული მატრიცის გამოთვლა\n",
        "print(np.linalg.det(a)) # მატრიცის დეტერმინანტის გამოთვლა"
      ],
      "metadata": {
        "colab": {
          "base_uri": "https://localhost:8080/"
        },
        "id": "xK9Fwuv_0MJL",
        "outputId": "9749800c-69bb-48ef-c16c-b2f7b9ee1bd1"
      },
      "execution_count": 25,
      "outputs": [
        {
          "output_type": "stream",
          "name": "stdout",
          "text": [
            "[[5 5]\n",
            " [5 5]]\n",
            "[[-3 -1]\n",
            " [ 1  3]]\n",
            "[[4 6]\n",
            " [6 4]]\n",
            "[[ 8  5]\n",
            " [20 13]]\n",
            "[[0.25       0.66666667]\n",
            " [1.5        4.        ]]\n",
            "[[2 4]\n",
            " [6 8]]\n",
            "[[1 3]\n",
            " [2 4]]\n",
            "[1 4]\n",
            "[[1 0 0 0]\n",
            " [0 2 0 0]\n",
            " [0 0 3 0]\n",
            " [0 0 0 4]]\n",
            "Eigenvalues: [-0.37228132  5.37228132]\n",
            "Eigenvectors: [[-0.82456484 -0.41597356]\n",
            " [ 0.56576746 -0.90937671]]\n",
            "[[-2.   1. ]\n",
            " [ 1.5 -0.5]]\n",
            "-2.0000000000000004\n"
          ]
        }
      ]
    },
    {
      "cell_type": "code",
      "source": [
        "import numpy as np\n",
        "a = np.array([[1, 2], [3, 4]])\n",
        "print(np.sum(a))  # ელემენტების ჯამი\n",
        "print(np.mean(a))  # ელემენტების საშუალო\n",
        "print(np.median(a))  # ელემენტების მედიანა\n",
        "print(np.min(a))  # ელემენტების მინიმუმი\n",
        "print(np.max(a))  # ელემენტების მაქსიმუმი\n",
        "print(np.std(a))  # ელემენტების სტანდარტული გადახრა\n",
        "print(np.var(a))  # ელემენტების დისპერსია"
      ],
      "metadata": {
        "colab": {
          "base_uri": "https://localhost:8080/"
        },
        "id": "H-EaB-sg0jRm",
        "outputId": "87ec0299-d119-4899-ce17-031267dea7a1"
      },
      "execution_count": 27,
      "outputs": [
        {
          "output_type": "stream",
          "name": "stdout",
          "text": [
            "10\n",
            "2.5\n",
            "2.5\n",
            "1\n",
            "4\n",
            "1.118033988749895\n",
            "1.25\n"
          ]
        }
      ]
    },
    {
      "cell_type": "code",
      "source": [
        "arr1 = np.array([1, 2, 3])\n",
        "arr2 = np.array([4, 5, 6])\n",
        "# ინკრემენტი და დეკრემენტი\n",
        "arr1 += 1\n",
        "arr2 -= 2\n",
        "print(arr1, arr2)"
      ],
      "metadata": {
        "colab": {
          "base_uri": "https://localhost:8080/"
        },
        "id": "BwX6jOrW0qHm",
        "outputId": "bb14c336-b8de-4f80-a0e3-d6f39fee2b67"
      },
      "execution_count": 29,
      "outputs": [
        {
          "output_type": "stream",
          "name": "stdout",
          "text": [
            "[2 3 4] [2 3 4]\n"
          ]
        }
      ]
    },
    {
      "cell_type": "code",
      "source": [
        "arr = np.array([1, 2, 3])\n",
        "sqrt_arr = np.sqrt(arr)\n",
        "exp_arr = np.exp(arr)\n",
        "print(sqrt_arr, exp_arr)"
      ],
      "metadata": {
        "colab": {
          "base_uri": "https://localhost:8080/"
        },
        "id": "dG3BoDld0yn7",
        "outputId": "925fbf2a-69fa-496a-d028-99a65c6f964a"
      },
      "execution_count": 31,
      "outputs": [
        {
          "output_type": "stream",
          "name": "stdout",
          "text": [
            "[1.         1.41421356 1.73205081] [ 2.71828183  7.3890561  20.08553692]\n"
          ]
        }
      ]
    },
    {
      "cell_type": "code",
      "source": [
        "arr = np.array([1, 2, 3, 4, 5])\n",
        "min_result = np.min(arr)\n",
        "sum_result = np.sum(arr)\n",
        "max_result = np.max(arr)\n",
        "print(min_result, sum_result, max_result)"
      ],
      "metadata": {
        "colab": {
          "base_uri": "https://localhost:8080/"
        },
        "id": "OXIfAeWU0_vw",
        "outputId": "051e46ee-6972-4d51-87e9-a569af716192"
      },
      "execution_count": 33,
      "outputs": [
        {
          "output_type": "stream",
          "name": "stdout",
          "text": [
            "1 15 5\n"
          ]
        }
      ]
    },
    {
      "cell_type": "code",
      "source": [
        "# savarjishoebi\n",
        "import numpy as np\n",
        "\n",
        "arr = np.arange(0, 9)\n",
        "print(arr)"
      ],
      "metadata": {
        "colab": {
          "base_uri": "https://localhost:8080/"
        },
        "id": "JNQPKrt31FDc",
        "outputId": "9c160c68-28f8-43d3-efe9-e75a6a570ae4"
      },
      "execution_count": 36,
      "outputs": [
        {
          "output_type": "stream",
          "name": "stdout",
          "text": [
            "[0 1 2 3 4 5 6 7 8]\n"
          ]
        }
      ]
    },
    {
      "cell_type": "code",
      "source": [
        "arr = np.arange(0, 9).reshape(3, 3)\n",
        "print(arr)"
      ],
      "metadata": {
        "colab": {
          "base_uri": "https://localhost:8080/"
        },
        "id": "jL_bgVbE1iEn",
        "outputId": "4a034101-f1f7-4dfc-d871-95d2252f9afc"
      },
      "execution_count": 40,
      "outputs": [
        {
          "output_type": "stream",
          "name": "stdout",
          "text": [
            "[[0 1 2]\n",
            " [3 4 5]\n",
            " [6 7 8]]\n"
          ]
        }
      ]
    },
    {
      "cell_type": "code",
      "source": [
        "arr = np.arange(10, 20)\n",
        "for i in arr:\n",
        "  if i % 2 != 0:\n",
        "    print(i, 'odd')"
      ],
      "metadata": {
        "colab": {
          "base_uri": "https://localhost:8080/"
        },
        "id": "sD4c6UiR14NF",
        "outputId": "8988bbd1-1969-49d2-f04a-a1b3d716c8ed"
      },
      "execution_count": 43,
      "outputs": [
        {
          "output_type": "stream",
          "name": "stdout",
          "text": [
            "11 odd\n",
            "13 odd\n",
            "15 odd\n",
            "17 odd\n",
            "19 odd\n"
          ]
        }
      ]
    },
    {
      "cell_type": "code",
      "source": [
        "arr = np.random.rand(3, 4)\n",
        "arr[arr > 0.5] = 0\n",
        "\n",
        "print(arr)"
      ],
      "metadata": {
        "colab": {
          "base_uri": "https://localhost:8080/"
        },
        "id": "h3nvQjdN2SLF",
        "outputId": "faf36b50-d9d4-4935-e60b-6e0472342883"
      },
      "execution_count": 52,
      "outputs": [
        {
          "output_type": "stream",
          "name": "stdout",
          "text": [
            "[[0.32342713 0.28815269 0.12932651 0.        ]\n",
            " [0.         0.         0.         0.08172141]\n",
            " [0.49730504 0.3124005  0.21481753 0.08670785]]\n"
          ]
        }
      ]
    },
    {
      "cell_type": "code",
      "source": [
        "a = np.random.randint(1, 11, size=(3, 3))\n",
        "b = np.random.randint(1, 11, size=(3, 3))\n",
        "\n",
        "print(a)\n",
        "print(b)\n",
        "print(\"შეკრება:\\n\", a + b)\n",
        "print(\"გამოკლება:\\n\", a - b)\n",
        "print(\"გამრავლება:\\n\", a * b)\n",
        "print(\"გაყოფა:\\n\", a / b)"
      ],
      "metadata": {
        "colab": {
          "base_uri": "https://localhost:8080/"
        },
        "id": "fyRHv-o938nk",
        "outputId": "e845315e-05db-4ec7-8ea8-a001dff8126a"
      },
      "execution_count": 55,
      "outputs": [
        {
          "output_type": "stream",
          "name": "stdout",
          "text": [
            "[[ 1 10  3]\n",
            " [ 1  9  8]\n",
            " [ 7 10  2]]\n",
            "[[1 9 2]\n",
            " [8 1 2]\n",
            " [9 3 1]]\n",
            "შეკრება:\n",
            " [[ 2 19  5]\n",
            " [ 9 10 10]\n",
            " [16 13  3]]\n",
            "გამოკლება:\n",
            " [[ 0  1  1]\n",
            " [-7  8  6]\n",
            " [-2  7  1]]\n",
            "გამრავლება:\n",
            " [[ 1 90  6]\n",
            " [ 8  9 16]\n",
            " [63 30  2]]\n",
            "გაყოფა:\n",
            " [[1.         1.11111111 1.5       ]\n",
            " [0.125      9.         4.        ]\n",
            " [0.77777778 3.33333333 2.        ]]\n"
          ]
        }
      ]
    },
    {
      "cell_type": "code",
      "source": [
        "arr = np.random.randint(1, 101, size=20)\n",
        "print(arr)\n",
        "mean = arr.mean()\n",
        "median = np.median(arr)\n",
        "variance = np.var(arr)\n",
        "std_dev = np.std(arr)\n",
        "\n",
        "print('საშუალო', mean)\n",
        "print('sum', arr.sum())\n",
        "print('median', median)\n",
        "print('variance', variance)\n",
        "print('standard deviation', std_dev)"
      ],
      "metadata": {
        "colab": {
          "base_uri": "https://localhost:8080/"
        },
        "id": "AOr09esP4L0r",
        "outputId": "9dd059c7-0ce3-4803-d3a0-28af6e484cdc"
      },
      "execution_count": 67,
      "outputs": [
        {
          "output_type": "stream",
          "name": "stdout",
          "text": [
            "[20 76 62 57 61 42 54 77 76 30 61 69 90 39 56 54 53 88 33 61]\n",
            "საშუალო 57.95\n",
            "sum 1159\n",
            "median 59.0\n",
            "variance 331.4475\n",
            "standard deviation 18.205699656975558\n"
          ]
        }
      ]
    },
    {
      "cell_type": "code",
      "source": [
        "arr = np.random.randint(1, 21, size=(5, 5))\n",
        "\n",
        "sorted_rows = np.sort(arr, axis=0)\n",
        "sorted_column = np.sort(arr, axis=1)\n",
        "\n",
        "print(\"საწყისი მასივი:\\n\", arr)\n",
        "\n",
        "print(\"დალაგებული სტრიქონების მიხედვით:\\n\", sorted_column)\n",
        "print(\"დალაგებული სვეტების მიხედვით:\\n\", sorted_rows)"
      ],
      "metadata": {
        "colab": {
          "base_uri": "https://localhost:8080/"
        },
        "id": "LVVmuz9C5ZDS",
        "outputId": "ac0183ad-241a-4563-ecca-878ce8cd7797"
      },
      "execution_count": 71,
      "outputs": [
        {
          "output_type": "stream",
          "name": "stdout",
          "text": [
            "საწყისი მასივი:\n",
            " [[ 8 18 14 16  4]\n",
            " [ 3  5  5 13  3]\n",
            " [ 9  9 10 10  5]\n",
            " [15 13  1 18  9]\n",
            " [14  9 18 18  9]]\n",
            "დალაგებული სტრიქონების მიხედვით:\n",
            " [[ 4  8 14 16 18]\n",
            " [ 3  3  5  5 13]\n",
            " [ 5  9  9 10 10]\n",
            " [ 1  9 13 15 18]\n",
            " [ 9  9 14 18 18]]\n",
            "დალაგებული სვეტების მიხედვით:\n",
            " [[ 3  5  1 10  3]\n",
            " [ 8  9  5 13  4]\n",
            " [ 9  9 10 16  5]\n",
            " [14 13 14 18  9]\n",
            " [15 18 18 18  9]]\n"
          ]
        }
      ]
    },
    {
      "cell_type": "code",
      "source": [
        "a = np.arange(0, 9).reshape(3, 3)\n",
        "b = np.arange(9, 18).reshape(3, 3)\n",
        "\n",
        "vertical_combined = np.vstack((a, b))\n",
        "horizontal_combined = np.hstack((a, b))\n",
        "\n",
        "print(a)\n",
        "print(b)\n",
        "\n",
        "print(\"ვერტიკალურად გაერთიანება:\\n\", vertical_combined)\n",
        "print(\"ჰორიზონტალურად გაერთიანება:\\n\", horizontal_combined)"
      ],
      "metadata": {
        "colab": {
          "base_uri": "https://localhost:8080/"
        },
        "id": "PigZ5zpP6WSd",
        "outputId": "c64debec-351d-48ac-9e75-9e9264d96dfd"
      },
      "execution_count": 75,
      "outputs": [
        {
          "output_type": "stream",
          "name": "stdout",
          "text": [
            "[[0 1 2]\n",
            " [3 4 5]\n",
            " [6 7 8]]\n",
            "[[ 9 10 11]\n",
            " [12 13 14]\n",
            " [15 16 17]]\n",
            "ვერტიკალურად გაერთიანება:\n",
            " [[ 0  1  2]\n",
            " [ 3  4  5]\n",
            " [ 6  7  8]\n",
            " [ 9 10 11]\n",
            " [12 13 14]\n",
            " [15 16 17]]\n",
            "ჰორიზონტალურად გაერთიანება:\n",
            " [[ 0  1  2  9 10 11]\n",
            " [ 3  4  5 12 13 14]\n",
            " [ 6  7  8 15 16 17]]\n"
          ]
        }
      ]
    },
    {
      "cell_type": "code",
      "source": [
        "a = np.random.randint(1, 11, size=(3, 4))\n",
        "b = np.arange(1, 5)\n",
        "\n",
        "result = a + b\n",
        "print(a)\n",
        "print(b)\n",
        "print(result)"
      ],
      "metadata": {
        "colab": {
          "base_uri": "https://localhost:8080/"
        },
        "id": "nGcd9LZV7J5O",
        "outputId": "35633b10-0db4-4269-d523-052057d908be"
      },
      "execution_count": 80,
      "outputs": [
        {
          "output_type": "stream",
          "name": "stdout",
          "text": [
            "[[ 3  7  6  8]\n",
            " [ 6 10  6  2]\n",
            " [ 7  3  7  4]]\n",
            "[1 2 3 4]\n",
            "[[ 4  9  9 12]\n",
            " [ 7 12  9  6]\n",
            " [ 8  5 10  8]]\n"
          ]
        }
      ]
    },
    {
      "cell_type": "code",
      "source": [
        "a# შექმენით ორი 3x3 მატრიცა შემთხვევითი მთელი რიცხვებით 1-დან 10-მდე\n",
        "matrix1 = np.random.randint(1, 11, size=(3, 3))\n",
        "matrix2 = np.random.randint(1, 11, size=(3, 3))\n",
        "\n",
        "# გამოთვალეთ სკალარული ნამრავლი\n",
        "dot_product = np.dot(matrix1, matrix2)\n",
        "\n",
        "# გამოთვალეთ საკუთრივი მნიშვნელობები და ვექტორები პირველი მატრიცისთვის\n",
        "eigenvalues, eigenvectors = np.linalg.eig(matrix1)\n",
        "\n",
        "\n",
        "# შედეგების გამოქვეყნება\n",
        "print(\"პირველი მატრიცა:\\n\", matrix1)\n",
        "print(\"\\nმეორე მატრიცა:\\n\", matrix2)\n",
        "print(\"\\nსკალარული ნამრავლი (მატრიცების დოტ პროდუქტი):\\n\", dot_product)\n",
        "print(\"\\nსაკუთრივი მნიშვნელობები პირველი მატრიცისთვის:\\n\", eigenvalues)\n",
        "print(\"\\nსაკუთრივი ვექტორები პირველი მატრიცისთვის:\\n\", eigenvectors)"
      ],
      "metadata": {
        "colab": {
          "base_uri": "https://localhost:8080/"
        },
        "id": "rQ1BpL3r7lYL",
        "outputId": "54caccb3-1f5f-479a-9ff1-686b2bace7e9"
      },
      "execution_count": 81,
      "outputs": [
        {
          "output_type": "stream",
          "name": "stdout",
          "text": [
            "პირველი მატრიცა:\n",
            " [[ 1  2  5]\n",
            " [ 3  2  2]\n",
            " [10  7  6]]\n",
            "\n",
            "მეორე მატრიცა:\n",
            " [[ 1 10  3]\n",
            " [ 4  8  8]\n",
            " [ 4  2  1]]\n",
            "\n",
            "სკალარული ნამრავლი (მატრიცების დოტ პროდუქტი):\n",
            " [[ 29  36  24]\n",
            " [ 19  50  27]\n",
            " [ 62 168  92]]\n",
            "\n",
            "საკუთრივი მნიშვნელობები პირველი მატრიცისთვის:\n",
            " [12.9138015  -3.77002094 -0.14378056]\n",
            "\n",
            "საკუთრივი ვექტორები პირველი მატრიცისთვის:\n",
            " [[-0.4108707  -0.74568018  0.45367146]\n",
            " [-0.27238168  0.16383764 -0.85836496]\n",
            " [-0.87005373  0.64584696  0.23956586]]\n"
          ]
        }
      ]
    }
  ]
}